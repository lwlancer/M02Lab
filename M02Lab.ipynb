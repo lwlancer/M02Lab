{
 "cells": [
  {
   "cell_type": "code",
   "execution_count": 2,
   "id": "c97717b3",
   "metadata": {},
   "outputs": [
    {
     "name": "stdout",
     "output_type": "stream",
     "text": [
      "What is the student's last name?name\n",
      "What is the student's GPA?2.2\n",
      "What is the student's first name?logan\n"
     ]
    }
   ],
   "source": [
    "##Logan Lancer\n",
    "##M02Lab.py\n",
    "##This program takes student names and GPA and checks if they qualify for the deans list or honor roll.\n",
    "\n",
    "lastname = input(\"What is the student's last name?\")\n",
    "if lastname == \"ZZZ\":\n",
    "    quit()\n",
    "gpa = float(input(\"What is the student's GPA?\"))\n",
    "firstname = input(\"What is the student's first name?\")\n",
    "if gpa >= 3.5:\n",
    "    print(firstname + \" \" + lastname + \"made the dean's list!\")\n",
    "if gpa >= 3.25:\n",
    "    print(firstname + \" \" + lastname + \"made the honor roll!\")\n"
   ]
  },
  {
   "cell_type": "code",
   "execution_count": null,
   "id": "c2b256a7",
   "metadata": {},
   "outputs": [],
   "source": []
  },
  {
   "cell_type": "code",
   "execution_count": null,
   "id": "1d435422",
   "metadata": {},
   "outputs": [],
   "source": []
  },
  {
   "cell_type": "code",
   "execution_count": null,
   "id": "c62a55d0",
   "metadata": {},
   "outputs": [],
   "source": []
  },
  {
   "cell_type": "code",
   "execution_count": 1,
   "id": "50cfb925",
   "metadata": {},
   "outputs": [
    {
     "name": "stdout",
     "output_type": "stream",
     "text": [
      "What is the student's last name?named\n",
      "What is the student's GPA?4.0\n",
      "What is the student's first name?Logan\n",
      "Logan namedmade the dean's list!\n",
      "Logan namedmade the honor roll!\n"
     ]
    }
   ],
   "source": [
    "##Logan Lancer\n",
    "##M02Lab.py\n",
    "##This program takes student names and GPA and checks if they qualify for the deans list or honor roll.\n",
    "\n",
    "lastname = input(\"What is the student's last name?\")\n",
    "if lastname == \"ZZZ\":\n",
    "    quit()\n",
    "gpa = float(input(\"What is the student's GPA?\"))\n",
    "firstname = input(\"What is the student's first name?\")\n",
    "if gpa >= 3.5:\n",
    "    print(firstname + \" \" + lastname + \" made the dean's list!\")\n",
    "if gpa >= 3.25:\n",
    "    print(firstname + \" \" + lastname + \" made the honor roll!\")\n"
   ]
  },
  {
   "cell_type": "code",
   "execution_count": 2,
   "id": "6d9b02ca",
   "metadata": {},
   "outputs": [
    {
     "name": "stdout",
     "output_type": "stream",
     "text": [
      "What is the student's last name?lancer\n",
      "What is the student's GPA?logan\n"
     ]
    },
    {
     "ename": "ValueError",
     "evalue": "could not convert string to float: 'logan'",
     "output_type": "error",
     "traceback": [
      "\u001b[1;31m---------------------------------------------------------------------------\u001b[0m",
      "\u001b[1;31mValueError\u001b[0m                                Traceback (most recent call last)",
      "\u001b[1;32m~\\AppData\\Local\\Temp\\ipykernel_24376\\806201644.py\u001b[0m in \u001b[0;36m<module>\u001b[1;34m\u001b[0m\n\u001b[0;32m      6\u001b[0m \u001b[1;32mif\u001b[0m \u001b[0mlastname\u001b[0m \u001b[1;33m==\u001b[0m \u001b[1;34m\"ZZZ\"\u001b[0m\u001b[1;33m:\u001b[0m\u001b[1;33m\u001b[0m\u001b[1;33m\u001b[0m\u001b[0m\n\u001b[0;32m      7\u001b[0m     \u001b[0mquit\u001b[0m\u001b[1;33m(\u001b[0m\u001b[1;33m)\u001b[0m\u001b[1;33m\u001b[0m\u001b[1;33m\u001b[0m\u001b[0m\n\u001b[1;32m----> 8\u001b[1;33m \u001b[0mgpa\u001b[0m \u001b[1;33m=\u001b[0m \u001b[0mfloat\u001b[0m\u001b[1;33m(\u001b[0m\u001b[0minput\u001b[0m\u001b[1;33m(\u001b[0m\u001b[1;34m\"What is the student's GPA?\"\u001b[0m\u001b[1;33m)\u001b[0m\u001b[1;33m)\u001b[0m\u001b[1;33m\u001b[0m\u001b[1;33m\u001b[0m\u001b[0m\n\u001b[0m\u001b[0;32m      9\u001b[0m \u001b[0mfirstname\u001b[0m \u001b[1;33m=\u001b[0m \u001b[0minput\u001b[0m\u001b[1;33m(\u001b[0m\u001b[1;34m\"What is the student's first name?\"\u001b[0m\u001b[1;33m)\u001b[0m\u001b[1;33m\u001b[0m\u001b[1;33m\u001b[0m\u001b[0m\n\u001b[0;32m     10\u001b[0m \u001b[1;32mif\u001b[0m \u001b[0mgpa\u001b[0m \u001b[1;33m>=\u001b[0m \u001b[1;36m3.5\u001b[0m\u001b[1;33m:\u001b[0m\u001b[1;33m\u001b[0m\u001b[1;33m\u001b[0m\u001b[0m\n",
      "\u001b[1;31mValueError\u001b[0m: could not convert string to float: 'logan'"
     ]
    }
   ],
   "source": [
    "##Logan Lancer\n",
    "##M02Lab.py\n",
    "##This program takes student names and GPA and checks if they qualify for the deans list or honor roll.\n",
    "\n",
    "lastname = input(\"What is the student's last name?\")\n",
    "if lastname == \"ZZZ\":\n",
    "    quit()\n",
    "gpa = float(input(\"What is the student's GPA?\"))\n",
    "firstname = input(\"What is the student's first name?\")\n",
    "if gpa >= 3.5:\n",
    "    print(firstname + \" \" + lastname + \" made the dean's list!\")\n",
    "if gpa >= 3.25:\n",
    "    print(firstname + \" \" + lastname + \" made the honor roll!\")\n"
   ]
  },
  {
   "cell_type": "code",
   "execution_count": 3,
   "id": "bc7e3222",
   "metadata": {},
   "outputs": [
    {
     "name": "stdout",
     "output_type": "stream",
     "text": [
      "What is the student's last name?lancer\n",
      "What is the student's GPA?4.0\n",
      "What is the student's first name?logan\n",
      "logan lancer made the dean's list!\n",
      "logan lancer made the honor roll!\n"
     ]
    }
   ],
   "source": [
    "##Logan Lancer\n",
    "##M02Lab.py\n",
    "##This program takes student names and GPA and checks if they qualify for the deans list or honor roll.\n",
    "\n",
    "lastname = input(\"What is the student's last name?\")\n",
    "if lastname == \"ZZZ\":\n",
    "    quit()\n",
    "gpa = float(input(\"What is the student's GPA?\"))\n",
    "firstname = input(\"What is the student's first name?\")\n",
    "if gpa >= 3.5:\n",
    "    print(firstname + \" \" + lastname + \" made the dean's list!\")\n",
    "if gpa >= 3.25:\n",
    "    print(firstname + \" \" + lastname + \" made the honor roll!\")\n"
   ]
  },
  {
   "cell_type": "code",
   "execution_count": 4,
   "id": "7355b19a",
   "metadata": {},
   "outputs": [
    {
     "name": "stdout",
     "output_type": "stream",
     "text": [
      "What is the student's last name?smith\n",
      "What is the student's GPA?3.5\n",
      "What is the student's first name?smith\n",
      "smith smith made the dean's list!\n",
      "smith smith made the honor roll!\n"
     ]
    }
   ],
   "source": [
    "##Logan Lancer\n",
    "##M02Lab.py\n",
    "##This program takes student names and GPA and checks if they qualify for the deans list or honor roll.\n",
    "\n",
    "lastname = input(\"What is the student's last name?\")\n",
    "if lastname == \"ZZZ\":\n",
    "    quit()\n",
    "gpa = float(input(\"What is the student's GPA?\"))\n",
    "firstname = input(\"What is the student's first name?\")\n",
    "if gpa >= 3.5:\n",
    "    print(firstname + \" \" + lastname + \" made the dean's list!\")\n",
    "if gpa >= 3.25:\n",
    "    print(firstname + \" \" + lastname + \" made the honor roll!\")\n"
   ]
  },
  {
   "cell_type": "code",
   "execution_count": null,
   "id": "33a89725",
   "metadata": {},
   "outputs": [],
   "source": [
    "##Logan Lancer\n",
    "##M02Lab.py\n",
    "##This program takes student names and GPA and checks if they qualify for the deans list or honor roll.\n",
    "\n",
    "lastname = input(\"What is the student's last name?\")\n",
    "if lastname == \"ZZZ\":\n",
    "    quit()\n",
    "gpa = float(input(\"What is the student's GPA?\"))\n",
    "firstname = input(\"What is the student's first name?\")\n",
    "if gpa >= 3.5:\n",
    "    print(firstname + \" \" + lastname + \" made the dean's list!\")\n",
    "if gpa >= 3.25:\n",
    "    print(firstname + \" \" + lastname + \" made the honor roll!\")\n"
   ]
  }
 ],
 "metadata": {
  "kernelspec": {
   "display_name": "Python 3 (ipykernel)",
   "language": "python",
   "name": "python3"
  },
  "language_info": {
   "codemirror_mode": {
    "name": "ipython",
    "version": 3
   },
   "file_extension": ".py",
   "mimetype": "text/x-python",
   "name": "python",
   "nbconvert_exporter": "python",
   "pygments_lexer": "ipython3",
   "version": "3.9.13"
  }
 },
 "nbformat": 4,
 "nbformat_minor": 5
}
